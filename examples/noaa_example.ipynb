{
 "cells": [
  {
   "cell_type": "code",
   "execution_count": 1,
   "metadata": {
    "collapsed": false
   },
   "outputs": [
    {
     "name": "stdout",
     "output_type": "stream",
     "text": [
      "THREDDS PSD Test Catalog http://www.esrl.noaa.gov/psd/thredds/catalog.xml\n",
      "num refs = 2\n",
      "num datasets = 0\n"
     ]
    }
   ],
   "source": [
    "import threddsclient\n",
    "cat = threddsclient.read_url('http://www.esrl.noaa.gov/psd/thredds/catalog.xml')\n",
    "print cat.name, cat.url\n",
    "print 'num refs =', len(cat.references)\n",
    "print 'num datasets =', len(cat.datasets)"
   ]
  },
  {
   "cell_type": "code",
   "execution_count": 2,
   "metadata": {
    "collapsed": false
   },
   "outputs": [
    {
     "name": "stdout",
     "output_type": "stream",
     "text": [
      "Datasets\n",
      "Aggregations\n"
     ]
    }
   ],
   "source": [
    "for ref in cat.references:\n",
    "    print ref.name"
   ]
  },
  {
   "cell_type": "code",
   "execution_count": 3,
   "metadata": {
    "collapsed": false
   },
   "outputs": [
    {
     "name": "stdout",
     "output_type": "stream",
     "text": [
      "Datasets http://www.esrl.noaa.gov/psd/thredds/catalog/Datasets/catalog.xml\n",
      "num refs = 0\n",
      "num datasets = 1\n"
     ]
    }
   ],
   "source": [
    "cat2 = cat.references[0].follow()\n",
    "print cat2.name, cat2.url\n",
    "print 'num refs =', len(cat2.references)\n",
    "print 'num datasets =', len(cat2.datasets)"
   ]
  },
  {
   "cell_type": "code",
   "execution_count": 4,
   "metadata": {
    "collapsed": false
   },
   "outputs": [
    {
     "name": "stdout",
     "output_type": "stream",
     "text": [
      "Datasets http://www.esrl.noaa.gov/psd/thredds/catalog/Datasets/catalog.xml?dataset=Datasets True 0 49\n"
     ]
    }
   ],
   "source": [
    "ds = cat2.datasets[0]\n",
    "print ds.name, ds.url, ds.is_collection(), len(ds.datasets), len(ds.references)"
   ]
  },
  {
   "cell_type": "code",
   "execution_count": 5,
   "metadata": {
    "collapsed": false
   },
   "outputs": [
    {
     "name": "stdout",
     "output_type": "stream",
     "text": [
      "0 20thC_ReanV2 http://www.esrl.noaa.gov/psd/thredds/catalog/Datasets/20thC_ReanV2/catalog.xml\n",
      "1 20thC_ReanV2c http://www.esrl.noaa.gov/psd/thredds/catalog/Datasets/20thC_ReanV2c/catalog.xml\n",
      "2 COBE http://www.esrl.noaa.gov/psd/thredds/catalog/Datasets/COBE/catalog.xml\n",
      "3 COBE2 http://www.esrl.noaa.gov/psd/thredds/catalog/Datasets/COBE2/catalog.xml\n",
      "4 CarbonTracker http://www.esrl.noaa.gov/psd/thredds/catalog/Datasets/CarbonTracker/catalog.xml\n",
      "5 NARR http://www.esrl.noaa.gov/psd/thredds/catalog/Datasets/NARR/catalog.xml\n",
      "6 Timeseries http://www.esrl.noaa.gov/psd/thredds/catalog/Datasets/Timeseries/catalog.xml\n",
      "7 cmap http://www.esrl.noaa.gov/psd/thredds/catalog/Datasets/cmap/catalog.xml\n",
      "8 coads http://www.esrl.noaa.gov/psd/thredds/catalog/Datasets/coads/catalog.xml\n",
      "9 cpc_us_hour_precip http://www.esrl.noaa.gov/psd/thredds/catalog/Datasets/cpc_us_hour_precip/catalog.xml\n",
      "10 cpc_us_precip http://www.esrl.noaa.gov/psd/thredds/catalog/Datasets/cpc_us_precip/catalog.xml\n",
      "11 cpcsoil http://www.esrl.noaa.gov/psd/thredds/catalog/Datasets/cpcsoil/catalog.xml\n",
      "12 cru http://www.esrl.noaa.gov/psd/thredds/catalog/Datasets/cru/catalog.xml\n",
      "13 dai_pdsi http://www.esrl.noaa.gov/psd/thredds/catalog/Datasets/dai_pdsi/catalog.xml\n",
      "14 ghcncams http://www.esrl.noaa.gov/psd/thredds/catalog/Datasets/ghcncams/catalog.xml\n",
      "15 ghcngridded http://www.esrl.noaa.gov/psd/thredds/catalog/Datasets/ghcngridded/catalog.xml\n",
      "16 gistemp http://www.esrl.noaa.gov/psd/thredds/catalog/Datasets/gistemp/catalog.xml\n",
      "17 godas http://www.esrl.noaa.gov/psd/thredds/catalog/Datasets/godas/catalog.xml\n",
      "18 gpcc http://www.esrl.noaa.gov/psd/thredds/catalog/Datasets/gpcc/catalog.xml\n",
      "19 gpcp http://www.esrl.noaa.gov/psd/thredds/catalog/Datasets/gpcp/catalog.xml\n",
      "20 icoads http://www.esrl.noaa.gov/psd/thredds/catalog/Datasets/icoads/catalog.xml\n",
      "21 interp_OLR http://www.esrl.noaa.gov/psd/thredds/catalog/Datasets/interp_OLR/catalog.xml\n",
      "22 kaplan_sst http://www.esrl.noaa.gov/psd/thredds/catalog/Datasets/kaplan_sst/catalog.xml\n",
      "23 mlost http://www.esrl.noaa.gov/psd/thredds/catalog/Datasets/mlost/catalog.xml\n",
      "24 mlostv3b http://www.esrl.noaa.gov/psd/thredds/catalog/Datasets/mlostv3b/catalog.xml\n",
      "25 msu http://www.esrl.noaa.gov/psd/thredds/catalog/Datasets/msu/catalog.xml\n",
      "26 ncep http://www.esrl.noaa.gov/psd/thredds/catalog/Datasets/ncep/catalog.xml\n",
      "27 ncep.marine http://www.esrl.noaa.gov/psd/thredds/catalog/Datasets/ncep.marine/catalog.xml\n",
      "28 ncep.pac.ocean http://www.esrl.noaa.gov/psd/thredds/catalog/Datasets/ncep.pac.ocean/catalog.xml\n",
      "29 ncep.reanalysis http://www.esrl.noaa.gov/psd/thredds/catalog/Datasets/ncep.reanalysis/catalog.xml\n",
      "30 ncep.reanalysis.dailyavgs http://www.esrl.noaa.gov/psd/thredds/catalog/Datasets/ncep.reanalysis.dailyavgs/catalog.xml\n",
      "31 ncep.reanalysis.derived http://www.esrl.noaa.gov/psd/thredds/catalog/Datasets/ncep.reanalysis.derived/catalog.xml\n",
      "32 ncep.reanalysis2 http://www.esrl.noaa.gov/psd/thredds/catalog/Datasets/ncep.reanalysis2/catalog.xml\n",
      "33 ncep.reanalysis2.dailyavgs http://www.esrl.noaa.gov/psd/thredds/catalog/Datasets/ncep.reanalysis2.dailyavgs/catalog.xml\n",
      "34 ncep.reanalysis2.derived http://www.esrl.noaa.gov/psd/thredds/catalog/Datasets/ncep.reanalysis2.derived/catalog.xml\n",
      "35 noaa.ersst http://www.esrl.noaa.gov/psd/thredds/catalog/Datasets/noaa.ersst/catalog.xml\n",
      "36 noaa.oisst.v2 http://www.esrl.noaa.gov/psd/thredds/catalog/Datasets/noaa.oisst.v2/catalog.xml\n",
      "37 noaa.oisst.v2.derived http://www.esrl.noaa.gov/psd/thredds/catalog/Datasets/noaa.oisst.v2.derived/catalog.xml\n",
      "38 noaa.oisst.v2.highres http://www.esrl.noaa.gov/psd/thredds/catalog/Datasets/noaa.oisst.v2.highres/catalog.xml\n",
      "39 noaa_hrc http://www.esrl.noaa.gov/psd/thredds/catalog/Datasets/noaa_hrc/catalog.xml\n",
      "40 noaamergedtemp http://www.esrl.noaa.gov/psd/thredds/catalog/Datasets/noaamergedtemp/catalog.xml\n",
      "41 nodc.woa94 http://www.esrl.noaa.gov/psd/thredds/catalog/Datasets/nodc.woa94/catalog.xml\n",
      "42 nodc.woa98 http://www.esrl.noaa.gov/psd/thredds/catalog/Datasets/nodc.woa98/catalog.xml\n",
      "43 olrcdr http://www.esrl.noaa.gov/psd/thredds/catalog/Datasets/olrcdr/catalog.xml\n",
      "44 prec http://www.esrl.noaa.gov/psd/thredds/catalog/Datasets/prec/catalog.xml\n",
      "45 precl http://www.esrl.noaa.gov/psd/thredds/catalog/Datasets/precl/catalog.xml\n",
      "46 snowcover http://www.esrl.noaa.gov/psd/thredds/catalog/Datasets/snowcover/catalog.xml\n",
      "47 udel.airt.precip http://www.esrl.noaa.gov/psd/thredds/catalog/Datasets/udel.airt.precip/catalog.xml\n",
      "48 uninterp_OLR http://www.esrl.noaa.gov/psd/thredds/catalog/Datasets/uninterp_OLR/catalog.xml\n"
     ]
    }
   ],
   "source": [
    "for i in range(0, len(ds.references)):\n",
    "    print i, ds.references[i].name, ds.references[i].url"
   ]
  },
  {
   "cell_type": "code",
   "execution_count": 6,
   "metadata": {
    "collapsed": false
   },
   "outputs": [
    {
     "name": "stdout",
     "output_type": "stream",
     "text": [
      "ncep.reanalysis2.dailyavgs http://www.esrl.noaa.gov/psd/thredds/catalog/Datasets/ncep.reanalysis2.dailyavgs/catalog.xml 0 1\n"
     ]
    }
   ],
   "source": [
    "cat3 = ds.references[33].follow()\n",
    "print cat3.name, cat3.url, len(cat3.references), len(cat3.datasets)"
   ]
  },
  {
   "cell_type": "code",
   "execution_count": 7,
   "metadata": {
    "collapsed": false
   },
   "outputs": [
    {
     "name": "stdout",
     "output_type": "stream",
     "text": [
      "gaussian_grid http://www.esrl.noaa.gov/psd/thredds/catalog/Datasets/ncep.reanalysis2.dailyavgs/gaussian_grid/catalog.xml\n",
      "pressure http://www.esrl.noaa.gov/psd/thredds/catalog/Datasets/ncep.reanalysis2.dailyavgs/pressure/catalog.xml\n",
      "surface http://www.esrl.noaa.gov/psd/thredds/catalog/Datasets/ncep.reanalysis2.dailyavgs/surface/catalog.xml\n"
     ]
    }
   ],
   "source": [
    "for ref in cat3.flat_references():\n",
    "    print ref.name, ref.url"
   ]
  },
  {
   "cell_type": "code",
   "execution_count": 8,
   "metadata": {
    "collapsed": false
   },
   "outputs": [
    {
     "name": "stdout",
     "output_type": "stream",
     "text": [
      "surface http://www.esrl.noaa.gov/psd/thredds/catalog/Datasets/ncep.reanalysis2.dailyavgs/surface/catalog.xml 109\n"
     ]
    }
   ],
   "source": [
    "cat4 = cat3.flat_references()[2].follow()\n",
    "print cat4.name, cat4.url, len(cat4.flat_datasets())"
   ]
  },
  {
   "cell_type": "code",
   "execution_count": 9,
   "metadata": {
    "collapsed": false
   },
   "outputs": [
    {
     "name": "stdout",
     "output_type": "stream",
     "text": [
      "hgt.sfc.nc, http://www.esrl.noaa.gov/psd/thredds/catalog/Datasets/ncep.reanalysis2.dailyavgs/surface/catalog.xml?dataset=Datasets/ncep.reanalysis2.dailyavgs/surface/hgt.sfc.nc, 2010-08-19T21:22:40Z, 24030\n"
     ]
    }
   ],
   "source": [
    "print '{0.name}, {0.url}, {0.modified}, {0.bytes}'.format(cat4.flat_datasets()[0])"
   ]
  },
  {
   "cell_type": "code",
   "execution_count": 10,
   "metadata": {
    "collapsed": false
   },
   "outputs": [
    {
     "name": "stdout",
     "output_type": "stream",
     "text": [
      "http://www.esrl.noaa.gov/psd/thredds/fileServer/Datasets/ncep.reanalysis2.dailyavgs/surface/hgt.sfc.nc\n"
     ]
    }
   ],
   "source": [
    "print cat4.flat_datasets()[0].file_url()"
   ]
  },
  {
   "cell_type": "code",
   "execution_count": 11,
   "metadata": {
    "collapsed": false
   },
   "outputs": [
    {
     "name": "stdout",
     "output_type": "stream",
     "text": [
      "http://www.esrl.noaa.gov/psd/thredds/dodsC/Datasets/ncep.reanalysis2.dailyavgs/surface/hgt.sfc.nc\n"
     ]
    }
   ],
   "source": [
    "print cat4.flat_datasets()[0].opendap_url()"
   ]
  },
  {
   "cell_type": "code",
   "execution_count": 12,
   "metadata": {
    "collapsed": false
   },
   "outputs": [
    {
     "name": "stdout",
     "output_type": "stream",
     "text": [
      "http://www.esrl.noaa.gov/psd/thredds/fileServer/Datasets/ncep.reanalysis2.dailyavgs/surface/hgt.sfc.nc\n"
     ]
    }
   ],
   "source": [
    "print cat4.download_urls()[0]"
   ]
  },
  {
   "cell_type": "code",
   "execution_count": 13,
   "metadata": {
    "collapsed": false
   },
   "outputs": [
    {
     "name": "stdout",
     "output_type": "stream",
     "text": [
      "http://www.esrl.noaa.gov/psd/thredds/dodsC/Datasets/ncep.reanalysis2.dailyavgs/surface/hgt.sfc.nc\n"
     ]
    }
   ],
   "source": [
    "print cat4.opendap_urls()[0]"
   ]
  }
 ],
 "metadata": {
  "kernelspec": {
   "display_name": "Python 2",
   "language": "python",
   "name": "python2"
  },
  "language_info": {
   "codemirror_mode": {
    "name": "ipython",
    "version": 2
   },
   "file_extension": ".py",
   "mimetype": "text/x-python",
   "name": "python",
   "nbconvert_exporter": "python",
   "pygments_lexer": "ipython2",
   "version": "2.7.10"
  }
 },
 "nbformat": 4,
 "nbformat_minor": 0
}
